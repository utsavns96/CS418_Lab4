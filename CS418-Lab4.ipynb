{
 "cells": [
  {
   "cell_type": "markdown",
   "metadata": {
    "id": "XFV8OqC2BF7c"
   },
   "source": [
    "# Lab 4: Scikit Learn and Regression\n",
    "UIC CS 418, Spring 2023 - CC\n",
    "\n",
    "## Academic Integrity Policy\n",
    "\n",
    "According to the Academic Integrity Policy of this course, all work submitted for grading must be done individually, unless otherwise specified. While we encourage you to talk to your peers and learn from them, this interaction must be superficial with regards to all work submitted for grading. This means you cannot work in teams, you cannot work side-by-side, you cannot submit someone else’s work (partial or complete) as your own. In particular, note that you are guilty of academic dishonesty if you extend or receive any kind of unauthorized assistance. Absolutely no transfer of program code between students is permitted (paper or electronic), and you may not solicit code from family, friends, or online forums. Other examples of academic dishonesty include emailing your program to another student, copying-pasting code from the internet, working in a group on a homework assignment, and allowing a tutor, TA, or another individual to write an answer for you. \n",
    "If you have questions, please ask us on Piazza.\n",
    "You must reference (including URLs) of any resources other than those linked to in the assignment, or provided by the professor or TA.\n",
    "\n",
    "Academic dishonesty is unacceptable, and penalties range from failure to expulsion from the university; cases are handled via the official student conduct process described at https://dos.uic.edu/conductforstudents.shtml._\n",
    "\n",
    "We will run your code through MOSS software to detect copying and plagiarism.\n",
    "\n",
    "##To submit this assignment:\n",
    "1. Execute all commands and complete this notebook\t\n",
    "2. Download your Python Notebook (**.ipynb** file) and upload it to Gradescope\n",
    "under *Lab 4 (.ipynb)*. **Make sure you check that your *.ipynb* file includes all parts of your solution (including the outputs).**\n",
    "2.\tExport your Notebook as a python file (**.py** file) and upload it to Gradescope under *.py file for Lab 4*. \n"
   ]
  },
  {
   "cell_type": "markdown",
   "metadata": {
    "id": "ZYCSkPWHBF8J"
   },
   "source": [
    "\n",
    "### [Read an follow the prelab before answering the questions here](https://drive.google.com/file/d/1RVGIYL9xloKfn9SPoJoxXSiKdRhuj9RD/view?usp=sharing)"
   ]
  },
  {
   "cell_type": "markdown",
   "metadata": {
    "id": "E4fjxQANBF8m"
   },
   "source": [
    "#### Exercise 1 ( 20 pts)\n",
    "\n",
    "Perform the following tasks (TODO):\n",
    "\n",
    "1. Load this Boston housing dataset: \n",
    " * [info](https://raw.githubusercontent.com/jbrownlee/Datasets/master/housing.names)\n",
    " * [housing.csv](https://raw.githubusercontent.com/jbrownlee/Datasets/master/housing.csv) \n",
    "\n",
    "2. Display the first 10 rows of the dataset with column names as headers as it is shown in the [info](https://raw.githubusercontent.com/jbrownlee/Datasets/master/housing.names) file\n",
    "\n",
    "3. Using your own judgment, select one of the 13 columns as a predictor for MEDV(Median value of owner-occupied homes in $1000's).\n",
    "\n"
   ]
  },
  {
   "cell_type": "code",
   "execution_count": 1,
   "metadata": {
    "id": "FVILd63qBF8n"
   },
   "outputs": [
    {
     "data": {
      "text/html": [
       "<div>\n",
       "<style scoped>\n",
       "    .dataframe tbody tr th:only-of-type {\n",
       "        vertical-align: middle;\n",
       "    }\n",
       "\n",
       "    .dataframe tbody tr th {\n",
       "        vertical-align: top;\n",
       "    }\n",
       "\n",
       "    .dataframe thead th {\n",
       "        text-align: right;\n",
       "    }\n",
       "</style>\n",
       "<table border=\"1\" class=\"dataframe\">\n",
       "  <thead>\n",
       "    <tr style=\"text-align: right;\">\n",
       "      <th></th>\n",
       "      <th>CRIM</th>\n",
       "      <th>ZN</th>\n",
       "      <th>INDUS</th>\n",
       "      <th>CHAS</th>\n",
       "      <th>NOX</th>\n",
       "      <th>RM</th>\n",
       "      <th>AGE</th>\n",
       "      <th>DIS</th>\n",
       "      <th>RAD</th>\n",
       "      <th>TAX</th>\n",
       "      <th>PTRATIO</th>\n",
       "      <th>B</th>\n",
       "      <th>LSTAT</th>\n",
       "      <th>MEDV</th>\n",
       "    </tr>\n",
       "  </thead>\n",
       "  <tbody>\n",
       "    <tr>\n",
       "      <th>0</th>\n",
       "      <td>0.00632</td>\n",
       "      <td>18.0</td>\n",
       "      <td>2.31</td>\n",
       "      <td>0</td>\n",
       "      <td>0.538</td>\n",
       "      <td>6.575</td>\n",
       "      <td>65.2</td>\n",
       "      <td>4.0900</td>\n",
       "      <td>1</td>\n",
       "      <td>296.0</td>\n",
       "      <td>15.3</td>\n",
       "      <td>396.90</td>\n",
       "      <td>4.98</td>\n",
       "      <td>24.0</td>\n",
       "    </tr>\n",
       "    <tr>\n",
       "      <th>1</th>\n",
       "      <td>0.02731</td>\n",
       "      <td>0.0</td>\n",
       "      <td>7.07</td>\n",
       "      <td>0</td>\n",
       "      <td>0.469</td>\n",
       "      <td>6.421</td>\n",
       "      <td>78.9</td>\n",
       "      <td>4.9671</td>\n",
       "      <td>2</td>\n",
       "      <td>242.0</td>\n",
       "      <td>17.8</td>\n",
       "      <td>396.90</td>\n",
       "      <td>9.14</td>\n",
       "      <td>21.6</td>\n",
       "    </tr>\n",
       "    <tr>\n",
       "      <th>2</th>\n",
       "      <td>0.02729</td>\n",
       "      <td>0.0</td>\n",
       "      <td>7.07</td>\n",
       "      <td>0</td>\n",
       "      <td>0.469</td>\n",
       "      <td>7.185</td>\n",
       "      <td>61.1</td>\n",
       "      <td>4.9671</td>\n",
       "      <td>2</td>\n",
       "      <td>242.0</td>\n",
       "      <td>17.8</td>\n",
       "      <td>392.83</td>\n",
       "      <td>4.03</td>\n",
       "      <td>34.7</td>\n",
       "    </tr>\n",
       "    <tr>\n",
       "      <th>3</th>\n",
       "      <td>0.03237</td>\n",
       "      <td>0.0</td>\n",
       "      <td>2.18</td>\n",
       "      <td>0</td>\n",
       "      <td>0.458</td>\n",
       "      <td>6.998</td>\n",
       "      <td>45.8</td>\n",
       "      <td>6.0622</td>\n",
       "      <td>3</td>\n",
       "      <td>222.0</td>\n",
       "      <td>18.7</td>\n",
       "      <td>394.63</td>\n",
       "      <td>2.94</td>\n",
       "      <td>33.4</td>\n",
       "    </tr>\n",
       "    <tr>\n",
       "      <th>4</th>\n",
       "      <td>0.06905</td>\n",
       "      <td>0.0</td>\n",
       "      <td>2.18</td>\n",
       "      <td>0</td>\n",
       "      <td>0.458</td>\n",
       "      <td>7.147</td>\n",
       "      <td>54.2</td>\n",
       "      <td>6.0622</td>\n",
       "      <td>3</td>\n",
       "      <td>222.0</td>\n",
       "      <td>18.7</td>\n",
       "      <td>396.90</td>\n",
       "      <td>5.33</td>\n",
       "      <td>36.2</td>\n",
       "    </tr>\n",
       "    <tr>\n",
       "      <th>5</th>\n",
       "      <td>0.02985</td>\n",
       "      <td>0.0</td>\n",
       "      <td>2.18</td>\n",
       "      <td>0</td>\n",
       "      <td>0.458</td>\n",
       "      <td>6.430</td>\n",
       "      <td>58.7</td>\n",
       "      <td>6.0622</td>\n",
       "      <td>3</td>\n",
       "      <td>222.0</td>\n",
       "      <td>18.7</td>\n",
       "      <td>394.12</td>\n",
       "      <td>5.21</td>\n",
       "      <td>28.7</td>\n",
       "    </tr>\n",
       "    <tr>\n",
       "      <th>6</th>\n",
       "      <td>0.08829</td>\n",
       "      <td>12.5</td>\n",
       "      <td>7.87</td>\n",
       "      <td>0</td>\n",
       "      <td>0.524</td>\n",
       "      <td>6.012</td>\n",
       "      <td>66.6</td>\n",
       "      <td>5.5605</td>\n",
       "      <td>5</td>\n",
       "      <td>311.0</td>\n",
       "      <td>15.2</td>\n",
       "      <td>395.60</td>\n",
       "      <td>12.43</td>\n",
       "      <td>22.9</td>\n",
       "    </tr>\n",
       "    <tr>\n",
       "      <th>7</th>\n",
       "      <td>0.14455</td>\n",
       "      <td>12.5</td>\n",
       "      <td>7.87</td>\n",
       "      <td>0</td>\n",
       "      <td>0.524</td>\n",
       "      <td>6.172</td>\n",
       "      <td>96.1</td>\n",
       "      <td>5.9505</td>\n",
       "      <td>5</td>\n",
       "      <td>311.0</td>\n",
       "      <td>15.2</td>\n",
       "      <td>396.90</td>\n",
       "      <td>19.15</td>\n",
       "      <td>27.1</td>\n",
       "    </tr>\n",
       "    <tr>\n",
       "      <th>8</th>\n",
       "      <td>0.21124</td>\n",
       "      <td>12.5</td>\n",
       "      <td>7.87</td>\n",
       "      <td>0</td>\n",
       "      <td>0.524</td>\n",
       "      <td>5.631</td>\n",
       "      <td>100.0</td>\n",
       "      <td>6.0821</td>\n",
       "      <td>5</td>\n",
       "      <td>311.0</td>\n",
       "      <td>15.2</td>\n",
       "      <td>386.63</td>\n",
       "      <td>29.93</td>\n",
       "      <td>16.5</td>\n",
       "    </tr>\n",
       "    <tr>\n",
       "      <th>9</th>\n",
       "      <td>0.17004</td>\n",
       "      <td>12.5</td>\n",
       "      <td>7.87</td>\n",
       "      <td>0</td>\n",
       "      <td>0.524</td>\n",
       "      <td>6.004</td>\n",
       "      <td>85.9</td>\n",
       "      <td>6.5921</td>\n",
       "      <td>5</td>\n",
       "      <td>311.0</td>\n",
       "      <td>15.2</td>\n",
       "      <td>386.71</td>\n",
       "      <td>17.10</td>\n",
       "      <td>18.9</td>\n",
       "    </tr>\n",
       "  </tbody>\n",
       "</table>\n",
       "</div>"
      ],
      "text/plain": [
       "      CRIM    ZN  INDUS  CHAS    NOX     RM    AGE     DIS  RAD    TAX  \\\n",
       "0  0.00632  18.0   2.31     0  0.538  6.575   65.2  4.0900    1  296.0   \n",
       "1  0.02731   0.0   7.07     0  0.469  6.421   78.9  4.9671    2  242.0   \n",
       "2  0.02729   0.0   7.07     0  0.469  7.185   61.1  4.9671    2  242.0   \n",
       "3  0.03237   0.0   2.18     0  0.458  6.998   45.8  6.0622    3  222.0   \n",
       "4  0.06905   0.0   2.18     0  0.458  7.147   54.2  6.0622    3  222.0   \n",
       "5  0.02985   0.0   2.18     0  0.458  6.430   58.7  6.0622    3  222.0   \n",
       "6  0.08829  12.5   7.87     0  0.524  6.012   66.6  5.5605    5  311.0   \n",
       "7  0.14455  12.5   7.87     0  0.524  6.172   96.1  5.9505    5  311.0   \n",
       "8  0.21124  12.5   7.87     0  0.524  5.631  100.0  6.0821    5  311.0   \n",
       "9  0.17004  12.5   7.87     0  0.524  6.004   85.9  6.5921    5  311.0   \n",
       "\n",
       "   PTRATIO       B  LSTAT  MEDV  \n",
       "0     15.3  396.90   4.98  24.0  \n",
       "1     17.8  396.90   9.14  21.6  \n",
       "2     17.8  392.83   4.03  34.7  \n",
       "3     18.7  394.63   2.94  33.4  \n",
       "4     18.7  396.90   5.33  36.2  \n",
       "5     18.7  394.12   5.21  28.7  \n",
       "6     15.2  395.60  12.43  22.9  \n",
       "7     15.2  396.90  19.15  27.1  \n",
       "8     15.2  386.63  29.93  16.5  \n",
       "9     15.2  386.71  17.10  18.9  "
      ]
     },
     "execution_count": 1,
     "metadata": {},
     "output_type": "execute_result"
    }
   ],
   "source": [
    "# Your code goes here\n",
    "import os\n",
    "import numpy as np\n",
    "import pandas as pd\n",
    "from pandas import read_csv\n",
    "import matplotlib.pyplot as plt\n",
    "# TODO: Load the dataset\n",
    "url = 'https://raw.githubusercontent.com/jbrownlee/Datasets/master/housing.csv'\n",
    "df = read_csv(url, header=None)\n",
    "df = df.rename(columns={0:'CRIM', 1:'ZN', 2:'INDUS', 3:'CHAS', 4:'NOX', 5:'RM', 6:'AGE', 7:'DIS',8:'RAD'\n",
    "                        ,9:'TAX', 10:'PTRATIO', 11:'B', 12:'LSTAT',13:'MEDV'})\n",
    "# TODO: Display first 10 rows \n",
    "df.head(10)"
   ]
  },
  {
   "cell_type": "markdown",
   "metadata": {
    "id": "SEhuPNknS-iR"
   },
   "source": [
    "####Which column did you choose and why?\n",
    "\n",
    "**Type your answer here**\n",
    "\n",
    "The column I chose was INDUS, since a high number of non-retail businesses could indicate that the house is in an industrial area, causing the value to be lower."
   ]
  },
  {
   "cell_type": "markdown",
   "metadata": {
    "id": "q_zC8wRPS8jz"
   },
   "source": [
    "\n",
    "4. Make a linear regression model with the feature you chose. Use `train_test_split` to keep 20% of the data for testing.\n",
    "5. Use your model to predict values for test set and print the predictions for the first 10 instances of the test data and compare them with actual values. (e.g. a table with columns predicted value and actual value).\n",
    "6. Print the coefficient value and its corresponding feature name (e.g.  CRIM  0.00632)  \n",
    "7. Calculate training-MSE, testing-MSE, and R-squared value."
   ]
  },
  {
   "cell_type": "code",
   "execution_count": 2,
   "metadata": {
    "id": "JAMQUXnNTZGe"
   },
   "outputs": [
    {
     "name": "stdout",
     "output_type": "stream",
     "text": [
      "Coefficient:  INDUS -0.6244296208062123\n",
      "Intercept:  29.558204609731582\n",
      "r-squared: 0.32\n",
      "Training Mean Squared Error: 66.99\n",
      "Testing Mean Squared Error: 55.63\n",
      "     MEDV  Predicted\n",
      "237  31.5  25.686741\n",
      "127  16.2  15.889440\n",
      "442  18.4  18.256028\n",
      "209  20.0  22.945495\n",
      "66   19.4  27.453877\n",
      "487  20.6  18.256028\n",
      "56   24.7  29.096127\n",
      "449  13.0  18.256028\n",
      "281  35.4  27.478854\n",
      "455  14.1  18.256028\n"
     ]
    },
    {
     "data": {
      "image/png": "[encoded data removed]",
      "text/plain": [
       "<Figure size 640x480 with 1 Axes>"
      ]
     },
     "metadata": {},
     "output_type": "display_data"
    }
   ],
   "source": [
    "# Your code goes here\n",
    "from sklearn.model_selection import train_test_split\n",
    "from sklearn.metrics import mean_squared_error, r2_score\n",
    "from sklearn.linear_model import LinearRegression\n",
    "# TODO: Select ONE FEATURE for linear regression\n",
    "#set the feature name here\n",
    "feature = \"INDUS\"\n",
    "\n",
    "#feature = df.columns.get_loc(feature)\n",
    "df_Y = df['MEDV']\n",
    "df_X = df[feature].to_numpy().reshape(-1,1)\n",
    "\n",
    "# TODO: Split the data into training/testing sets\n",
    "df_X_train, df_X_test, df_Y_train, df_Y_test = train_test_split(df_X, df_Y, test_size=0.2)\n",
    "\n",
    "# TODO: Train the model \n",
    "m1 = LinearRegression(fit_intercept=True)\n",
    "m1.fit(df_X_train, df_Y_train)\n",
    "\n",
    "# TODO: Make predictions on test data \n",
    "df_Y_pred = m1.predict(df_X_test)\n",
    "df_Y_pred_train = m1.predict(df_X_train)\n",
    "\n",
    "# TODO: print the model coefficient with feature names\n",
    "print('Coefficient: ', feature ,m1.coef_[0])\n",
    "\n",
    "# TODO: print the model intercept\n",
    "print('Intercept: ',m1.intercept_)\n",
    "\n",
    "# TODO: print the r-squared\n",
    "print('r-squared: %.2f' % r2_score(df_Y_test, df_Y_pred))\n",
    "\n",
    "# TODO: print the mean squared error for training\n",
    "print('Training Mean Squared Error: %.2f' % mean_squared_error(df_Y_train, df_Y_pred_train))\n",
    "\n",
    "# TODO: print the mean squared error for testing\n",
    "print('Testing Mean Squared Error: %.2f' % mean_squared_error(df_Y_test, df_Y_pred))\n",
    "\n",
    "# Comparision\n",
    "compare = pd.DataFrame(df_Y_test[:10])\n",
    "compare['Predicted'] = df_Y_pred[:10]\n",
    "print(compare.head(10))\n",
    "\n",
    "# Plot \n",
    "plt.scatter(df_X_test, df_Y_test,  color='red')\n",
    "plt.plot(df_X_test, df_Y_pred, color='blue', linewidth=2)\n",
    "\n",
    "plt.xticks(())\n",
    "plt.yticks(())\n",
    "\n",
    "plt.show()"
   ]
  },
  {
   "cell_type": "markdown",
   "metadata": {
    "id": "e489iZCWTZVj"
   },
   "source": [
    "8. Make a linear regression model with **all the features** in the dataset (MEDV is not a feature, it is the value to predict). Use `train_test_split` to keep 20% of the data for testing.\n",
    "9. Use your model to predict values for test set and print the predictions for the first 10 instances of the test data and compare them with actual values.\n",
    "10. Print the coefficient values and their corresponding feature name \n",
    "11. Calculate training-MSE, testing-MSE, and R-squared value."
   ]
  },
  {
   "cell_type": "code",
   "execution_count": 15,
   "metadata": {
    "id": "L3DxKFSrUbhz"
   },
   "outputs": [
    {
     "name": "stdout",
     "output_type": "stream",
     "text": [
      "Coefficient:  CRIM -0.11819537730423303\n",
      "Coefficient:  ZN 0.04750765605934418\n",
      "Coefficient:  INDUS 0.01597120222130022\n",
      "Coefficient:  CHAS 2.7072630060557477\n",
      "Coefficient:  NOX -18.423575186134443\n",
      "Coefficient:  RM 4.022101330483638\n",
      "Coefficient:  AGE 0.0009061028704506193\n",
      "Coefficient:  DIS -1.4739528445497116\n",
      "Coefficient:  RAD 0.2739279893931638\n",
      "Coefficient:  TAX -0.01165223284607473\n",
      "Coefficient:  PTRATIO -0.915445717533432\n",
      "Coefficient:  B 0.00835980263947501\n",
      "Coefficient:  LSTAT -0.4816326360282502\n",
      "Intercept:  34.7498685772038\n",
      "r-squared: 0.76\n",
      "Training Mean Squared Error: 22.11\n",
      "Testing Mean Squared Error: 21.41\n",
      "     MEDV  Predicted\n",
      "197  30.3  32.965994\n",
      "111  22.8  26.684502\n",
      "441  17.1  17.212904\n",
      "240  22.0  27.546970\n",
      "365  27.5  13.154785\n",
      "72   22.8  24.485172\n",
      "407  27.9  19.493361\n",
      "473  29.8  25.418071\n",
      "321  23.1  24.857137\n",
      "23   14.5  14.303653\n"
     ]
    }
   ],
   "source": [
    "# Your code goes here\n",
    "\n",
    "# TODO: Select ALL THE FEATURES for linear regression\n",
    "df_Y = df['MEDV']\n",
    "df_X = df.drop(columns=['MEDV'])\n",
    "# TODO: Split the data into training/testing sets\n",
    "df_X_train, df_X_test, df_Y_train, df_Y_test = train_test_split(df_X, df_Y, test_size=0.2)\n",
    "\n",
    "# TODO: Train the model \n",
    "m1 = LinearRegression()\n",
    "m1.fit(df_X_train, df_Y_train)\n",
    "\n",
    "# TODO: Make predictions on test data \n",
    "df_Y_pred = m1.predict(df_X_test)\n",
    "df_Y_pred_train = m1.predict(df_X_train)\n",
    "\n",
    "# TODO: print the model coefficient with feature names\n",
    "for i in range(0, len(df.columns)-1):\n",
    "    print('Coefficient: ', df.columns[i] ,m1.coef_[i])\n",
    "\n",
    "# TODO: print the model intercept\n",
    "print('Intercept: ',m1.intercept_)\n",
    "\n",
    "# TODO: print the r-squared\n",
    "print('r-squared: %.2f' % r2_score(df_Y_test, df_Y_pred))\n",
    "\n",
    "# TODO: print the mean squared error for training\n",
    "print('Training Mean Squared Error: %.2f' % mean_squared_error(df_Y_train, df_Y_pred_train))\n",
    "\n",
    "# TODO: print the mean squared error for testing\n",
    "print('Testing Mean Squared Error: %.2f' % mean_squared_error(df_Y_test, df_Y_pred))\n",
    "\n",
    "#Comparision\n",
    "compare = pd.DataFrame(df_Y_test[:10])\n",
    "compare['Predicted'] = df_Y_pred[:10]\n",
    "print(compare.head(10))"
   ]
  },
  {
   "cell_type": "markdown",
   "metadata": {
    "id": "5FlcXyWoVRb-"
   },
   "source": [
    "#### Compare the two models (with all the features versus one feature). Which model has a better performance? Why?\n",
    "\n",
    "\n",
    "**Type your answer here**"
   ]
  },
  {
   "cell_type": "markdown",
   "metadata": {
    "id": "yGV5xFIVBF8r"
   },
   "source": [
    "#### Exercise 2 (15 pts)\n",
    "\n",
    "1.   Use `RFE` to select the two most important features.\n",
    "2.   Make a Linear regression model using the features that `RFE` selected. \n",
    "3.   Calculate and print both train and test MSE and R-squared values, and compare this model with the models from 3.1.  "
   ]
  },
  {
   "cell_type": "code",
   "execution_count": 4,
   "metadata": {
    "id": "c2u_EeQTK5Iv"
   },
   "outputs": [
    {
     "name": "stdout",
     "output_type": "stream",
     "text": [
      "[False False False False  True  True False False False False False False\n",
      " False]\n",
      "[ 7  9  8  2  1  1 12  4  6 10  3 11  5]\n"
     ]
    },
    {
     "data": {
      "text/plain": [
       "array([4, 5], dtype=int64)"
      ]
     },
     "execution_count": 4,
     "metadata": {},
     "output_type": "execute_result"
    }
   ],
   "source": [
    "# Your code goes here \n",
    "from sklearn.feature_selection import RFE\n",
    "from sklearn.linear_model import LinearRegression\n",
    "\n",
    "df_Y_train = df['MEDV']\n",
    "df_X_train = df.drop(columns=['MEDV'])\n",
    "rfe = RFE(estimator = LinearRegression(), n_features_to_select = 2 , step = 1)\n",
    "rfe.fit(df_X_train, df_Y_train)\n",
    "print(rfe.support_)\n",
    "print(rfe.ranking_)\n",
    "\n",
    "rfe.get_support(True)\n"
   ]
  },
  {
   "cell_type": "code",
   "execution_count": 17,
   "metadata": {},
   "outputs": [
    {
     "name": "stdout",
     "output_type": "stream",
     "text": [
      "CHAS\n",
      "NOX\n",
      "RM\n",
      "DIS\n",
      "PTRATIO\n",
      "LSTAT\n",
      "Coefficient:\n",
      "CHAS 3.98907928959035\n",
      "NOX -16.45579318919895\n",
      "RM 4.363579629988079\n",
      "DIS -1.0777038921605433\n",
      "PTRATIO -0.8844070028490361\n",
      "LSTAT -0.5742352739691778\n",
      "Intercept:  31.564703570262644\n",
      "r-squared: 0.75\n",
      "Training Mean Squared Error: 23.68\n",
      "Testing Mean Squared Error: 25.87\n"
     ]
    }
   ],
   "source": [
    "#setting the feature names to use from the values returned by RFE above\n",
    "support = []\n",
    "for i in range(0,len(rfe.get_support(True))):\n",
    "    temp = df.columns[rfe.get_support(True)[i]]\n",
    "    support.append(temp)\n",
    "    print(temp)\n",
    "df_Y = df['MEDV']\n",
    "df_X = df[support]\n",
    "\n",
    "\n",
    "# Split the data into training/testing sets\n",
    "df_X_train, df_X_test, df_Y_train, df_Y_test = train_test_split(df_X, df_Y, test_size=0.2)\n",
    "\n",
    "# Train the model \n",
    "m1 = LinearRegression()\n",
    "m1.fit(df_X_train, df_Y_train)\n",
    "\n",
    "# Make predictions on training and test data \n",
    "df_Y_pred = m1.predict(df_X_test)\n",
    "df_Y_pred_train = m1.predict(df_X_train)\n",
    "\n",
    "# print the model coefficient with feature names\n",
    "print('Coefficient:');\n",
    "for i in range(0, len(rfe.get_support(True))):\n",
    "    print( df.columns[rfe.get_support(True)[i]] ,m1.coef_[i])\n",
    "    \n",
    "# print the model intercept\n",
    "print('Intercept: ',m1.intercept_)\n",
    "\n",
    "# print the r-squared\n",
    "print('r-squared: %.2f' % r2_score(df_Y_test, df_Y_pred))\n",
    "\n",
    "# print the mean squared error for training\n",
    "print('Training Mean Squared Error: %.2f' % mean_squared_error(df_Y_train, df_Y_pred_train))\n",
    "\n",
    "# print the mean squared error for testing\n",
    "print('Testing Mean Squared Error: %.2f' % mean_squared_error(df_Y_test, df_Y_pred))"
   ]
  },
  {
   "cell_type": "markdown",
   "metadata": {
    "id": "oy69YfwLK7Fa"
   },
   "source": [
    "#### Explain your observation. What are the important features found using RFE?\n",
    "\n",
    "**Type your answer here**"
   ]
  },
  {
   "cell_type": "markdown",
   "metadata": {
    "id": "K6YpdL-UBF8o"
   },
   "source": [
    "#### Compare the three models (with one feature, two features and all the features versus). Which model has a better performance? \n",
    "\n",
    "\n",
    "Using any one random feature has very low performance, since we do not know which feature is more important for our model.\n",
    "This gives us an R2 score of just 0.32.\n",
    "Using all the features is a lot more accurate, as is using the two most important features which we get from RFE.\n",
    "The second and third models have very close performance, with R2 scores of 0.72 and 0.75 respectively."
   ]
  },
  {
   "cell_type": "code",
   "execution_count": 6,
   "metadata": {
    "id": "kqiveBNFBF8t"
   },
   "outputs": [],
   "source": [
    "# Your code goes here \n"
   ]
  },
  {
   "cell_type": "markdown",
   "metadata": {
    "id": "GPKkuAxDBF8u"
   },
   "source": [
    "### Linear regression on the Boston house price dataset\n",
    "\n",
    "Now it's your turn to perform a linear regression on the **Boston housing** dataset."
   ]
  },
  {
   "cell_type": "markdown",
   "metadata": {
    "id": "eF5VNbQaBF8z"
   },
   "source": [
    " #### Exercise 3  ( 15 pts)\n",
    " \n",
    "Let's build models with different training sizes to predict the house prices for boston house dataset. Each model should use all the available features. The goal is to train multiple linear regression models for the following train-test splits and calculate and visualize their MSE:\n",
    "\n",
    "1.   30% training, 70% testing \n",
    "2.   40% training, 60% testing\n",
    "3.   50% training, 50% testing\n",
    "4.   60% training, 40% testing\n",
    "5.   70% training, 30% testing\n",
    "6.   80% training, 20% testing. (done previously)\n",
    "\n",
    "\n",
    "*Note: For simplicity, make a function that builds and fits the linear model and returns MSE for test.*"
   ]
  },
  {
   "cell_type": "code",
   "execution_count": 7,
   "metadata": {
    "id": "f3WIH-IqBF80"
   },
   "outputs": [
    {
     "data": {
      "text/html": [
       "<div>\n",
       "<style scoped>\n",
       "    .dataframe tbody tr th:only-of-type {\n",
       "        vertical-align: middle;\n",
       "    }\n",
       "\n",
       "    .dataframe tbody tr th {\n",
       "        vertical-align: top;\n",
       "    }\n",
       "\n",
       "    .dataframe thead th {\n",
       "        text-align: right;\n",
       "    }\n",
       "</style>\n",
       "<table border=\"1\" class=\"dataframe\">\n",
       "  <thead>\n",
       "    <tr style=\"text-align: right;\">\n",
       "      <th></th>\n",
       "      <th>TEST SIZE</th>\n",
       "      <th>MSE</th>\n",
       "    </tr>\n",
       "  </thead>\n",
       "  <tbody>\n",
       "    <tr>\n",
       "      <th>0</th>\n",
       "      <td>20</td>\n",
       "      <td>16.935455</td>\n",
       "    </tr>\n",
       "    <tr>\n",
       "      <th>1</th>\n",
       "      <td>30</td>\n",
       "      <td>21.714959</td>\n",
       "    </tr>\n",
       "    <tr>\n",
       "      <th>2</th>\n",
       "      <td>40</td>\n",
       "      <td>24.512338</td>\n",
       "    </tr>\n",
       "    <tr>\n",
       "      <th>3</th>\n",
       "      <td>50</td>\n",
       "      <td>26.523063</td>\n",
       "    </tr>\n",
       "    <tr>\n",
       "      <th>4</th>\n",
       "      <td>60</td>\n",
       "      <td>24.644636</td>\n",
       "    </tr>\n",
       "    <tr>\n",
       "      <th>5</th>\n",
       "      <td>70</td>\n",
       "      <td>26.086790</td>\n",
       "    </tr>\n",
       "  </tbody>\n",
       "</table>\n",
       "</div>"
      ],
      "text/plain": [
       "   TEST SIZE        MSE\n",
       "0         20  16.935455\n",
       "1         30  21.714959\n",
       "2         40  24.512338\n",
       "3         50  26.523063\n",
       "4         60  24.644636\n",
       "5         70  26.086790"
      ]
     },
     "execution_count": 7,
     "metadata": {},
     "output_type": "execute_result"
    }
   ],
   "source": [
    "#Your code goes here\n",
    "\n",
    "import warnings\n",
    "warnings.filterwarnings('ignore')\n",
    "\n",
    "MSE = []\n",
    "y = df['MEDV']\n",
    "x = df.drop(columns=['MEDV'])\n",
    "def calcMSE(testsize):\n",
    "    boston_X_train, boston_X_test, boston_Y_train, boston_Y_test = train_test_split(x, y, test_size=testsize)\n",
    "    m1 = LinearRegression()\n",
    "    m1.fit(boston_X_train, boston_Y_train)\n",
    "\n",
    "    # TODO: Make predictions on test data \n",
    "    boston_Y_pred = m1.predict(boston_X_test)\n",
    "    #boston_Y_pred_train = m1.predict(boston_X_train)\n",
    "    #print('Testing Mean Squared Error: %.2f' % mean_squared_error(boston_Y_test, boston_Y_pred))\n",
    "    return mean_squared_error(boston_Y_test, boston_Y_pred)\n",
    "\n",
    "for i in range(2,8):\n",
    "    temp = [i*10,calcMSE(i/10)]\n",
    "    MSE.append(temp)\n",
    "\n",
    "MSE = pd.DataFrame(MSE, columns=['TEST SIZE','MSE'])\n",
    "MSE"
   ]
  },
  {
   "cell_type": "markdown",
   "metadata": {
    "id": "eGIbHaDWXRia"
   },
   "source": [
    "\n",
    "Plot the test MSE values for all models with respect to the training size.  "
   ]
  },
  {
   "cell_type": "code",
   "execution_count": 8,
   "metadata": {
    "id": "lUGUS1ItXSLR"
   },
   "outputs": [
    {
     "data": {
      "text/plain": [
       "[<matplotlib.lines.Line2D at 0x2554c49e0a0>]"
      ]
     },
     "execution_count": 8,
     "metadata": {},
     "output_type": "execute_result"
    },
    {
     "data": {
      "image/png": "[encoded data removed]",
      "text/plain": [
       "<Figure size 640x480 with 1 Axes>"
      ]
     },
     "metadata": {},
     "output_type": "display_data"
    }
   ],
   "source": [
    "#Your code goes here\n",
    "%matplotlib inline\n",
    "import matplotlib.pyplot as plt\n",
    "\n",
    "fig = plt.figure()\n",
    "ax = plt.axes()\n",
    "plt.grid(True)\n",
    "x = np.linspace(0, 10, 1000)\n",
    "#plt.xlim(10, 80)\n",
    "#plt.ylim(8000,15000)\n",
    "#ax.set_xticks(np.arange(10, 80, 10))\n",
    "#ax.set_yticks(np.arange(8000, 15000, 500))\n",
    "plt.title(\"Mean Squared Error for Test Data\")\n",
    "plt.xlabel(\"Test Size Percentage\")\n",
    "plt.ylabel(\"MSE\")\n",
    "plt.plot('TEST SIZE', 'MSE', data=MSE)\n"
   ]
  },
  {
   "cell_type": "markdown",
   "metadata": {
    "id": "csYHO08dBF85"
   },
   "source": [
    " #### Exercise 4  ( 30 pts)\n",
    " \n",
    " Next, we want to use `RFE` to find the best set of features for prediction. When we used `RFE` in 3.2, we chose an arbitrary value for number of features. In practice, we don't know the best number of features to select for `RFE`, so we have to test different values. In this case, the number of features is the hyperparameter that we want to tune. \n",
    "Typically, we use cross validation for tuning hyperparameters. \n",
    "\n",
    "Recall that cross validation is a technique where we split our data into equal folds and then use one fold for testing and the rest for training. We can use `KFold` [Documentation](https://scikit-learn.org/stable/modules/generated/sklearn.model_selection.KFold.html) form scikit learn `model_selection` to split our data into desired folds. We can also use `cross_val_score` [Documentation](https://scikit-learn.org/stable/modules/generated/sklearn.model_selection.cross_val_score.html) to evaluate a score by cross validation. \n",
    " \n",
    "\n",
    "For this exercise, use `RFE` with cross-validation (K = 5 aka 5fold) to find the best set of features for prediction. \n",
    "\n",
    "\n",
    " - Make an RFE model with i number of features\n",
    " - Create a 5-fold CV on the data set \n",
    " - Fit the model with Cross validation using the best features and store the MSE values\n",
    " - Draw a box plot for MSE values of each model and pick the best number of features\n",
    "\n",
    "Note that the Boston housing data set contains 13 features, so you must create 13 models (one per each i best features selected with RFE) and use that model with 5-fold CV. At the end, you should have 13 models with 5 MSE values for each model (results of CV). \n",
    "\n",
    "Plot a side-by-side boxplot and compare the distribution of MSE values for these 13 models. \n",
    "\n",
    "\n",
    "\n"
   ]
  },
  {
   "cell_type": "code",
   "execution_count": 9,
   "metadata": {
    "id": "cB4GaQG8BF86"
   },
   "outputs": [
    {
     "data": {
      "text/html": [
       "<div>\n",
       "<style scoped>\n",
       "    .dataframe tbody tr th:only-of-type {\n",
       "        vertical-align: middle;\n",
       "    }\n",
       "\n",
       "    .dataframe tbody tr th {\n",
       "        vertical-align: top;\n",
       "    }\n",
       "\n",
       "    .dataframe thead th {\n",
       "        text-align: right;\n",
       "    }\n",
       "</style>\n",
       "<table border=\"1\" class=\"dataframe\">\n",
       "  <thead>\n",
       "    <tr style=\"text-align: right;\">\n",
       "      <th></th>\n",
       "      <th>Features</th>\n",
       "      <th>CV</th>\n",
       "    </tr>\n",
       "  </thead>\n",
       "  <tbody>\n",
       "    <tr>\n",
       "      <th>0</th>\n",
       "      <td>1</td>\n",
       "      <td>45.211197</td>\n",
       "    </tr>\n",
       "    <tr>\n",
       "      <th>1</th>\n",
       "      <td>1</td>\n",
       "      <td>82.509662</td>\n",
       "    </tr>\n",
       "    <tr>\n",
       "      <th>2</th>\n",
       "      <td>1</td>\n",
       "      <td>130.819023</td>\n",
       "    </tr>\n",
       "    <tr>\n",
       "      <th>3</th>\n",
       "      <td>1</td>\n",
       "      <td>83.141219</td>\n",
       "    </tr>\n",
       "    <tr>\n",
       "      <th>4</th>\n",
       "      <td>1</td>\n",
       "      <td>46.325416</td>\n",
       "    </tr>\n",
       "    <tr>\n",
       "      <th>...</th>\n",
       "      <td>...</td>\n",
       "      <td>...</td>\n",
       "    </tr>\n",
       "    <tr>\n",
       "      <th>60</th>\n",
       "      <td>13</td>\n",
       "      <td>12.460301</td>\n",
       "    </tr>\n",
       "    <tr>\n",
       "      <th>61</th>\n",
       "      <td>13</td>\n",
       "      <td>26.048621</td>\n",
       "    </tr>\n",
       "    <tr>\n",
       "      <th>62</th>\n",
       "      <td>13</td>\n",
       "      <td>33.074138</td>\n",
       "    </tr>\n",
       "    <tr>\n",
       "      <th>63</th>\n",
       "      <td>13</td>\n",
       "      <td>80.762371</td>\n",
       "    </tr>\n",
       "    <tr>\n",
       "      <th>64</th>\n",
       "      <td>13</td>\n",
       "      <td>33.313607</td>\n",
       "    </tr>\n",
       "  </tbody>\n",
       "</table>\n",
       "<p>65 rows × 2 columns</p>\n",
       "</div>"
      ],
      "text/plain": [
       "    Features          CV\n",
       "0          1   45.211197\n",
       "1          1   82.509662\n",
       "2          1  130.819023\n",
       "3          1   83.141219\n",
       "4          1   46.325416\n",
       "..       ...         ...\n",
       "60        13   12.460301\n",
       "61        13   26.048621\n",
       "62        13   33.074138\n",
       "63        13   80.762371\n",
       "64        13   33.313607\n",
       "\n",
       "[65 rows x 2 columns]"
      ]
     },
     "execution_count": 9,
     "metadata": {},
     "output_type": "execute_result"
    }
   ],
   "source": [
    "from sklearn.model_selection import KFold\n",
    "from sklearn.model_selection import cross_val_score\n",
    "\n",
    "#Your code goes here\n",
    "\n",
    "import warnings\n",
    "warnings.filterwarnings('ignore')\n",
    "\n",
    "# Code starts here \n",
    "y = df['MEDV']\n",
    "x = df.drop(columns=['MEDV'])\n",
    "\n",
    "kf = KFold(n_splits=5)\n",
    "plotdata = []\n",
    "featurelist=[]\n",
    "m1=LinearRegression()\n",
    "for i in range (1,14):\n",
    "    y_d = y\n",
    "    x_d = x\n",
    "    rfe = RFE(estimator = LinearRegression(), n_features_to_select = i , step = 1)\n",
    "    rfe.fit(x_d, y_d)\n",
    "    support = []\n",
    "    for k in range(0,len(rfe.get_support(True))):\n",
    "        temp = x_d.columns[rfe.get_support(True)[k]]\n",
    "        support.append(temp)\n",
    "    featurelist.append(rfe.get_support(True))\n",
    "    X_data = x_d[support]\n",
    "    for j in range (0, 5):\n",
    "        temp = [i,-1*cross_val_score(m1, X_data, y, scoring='neg_mean_squared_error', cv=kf)[j]]\n",
    "        plotdata.append(temp)\n",
    "plotdata = pd.DataFrame(plotdata, columns=['Features','CV'])\n",
    "plotdata"
   ]
  },
  {
   "cell_type": "code",
   "execution_count": 10,
   "metadata": {},
   "outputs": [
    {
     "data": {
      "text/plain": [
       "[<matplotlib.lines.Line2D at 0x2554c689280>]"
      ]
     },
     "execution_count": 10,
     "metadata": {},
     "output_type": "execute_result"
    },
    {
     "data": {
      "image/png": "[encoded data removed]",
      "text/plain": [
       "<Figure size 640x480 with 1 Axes>"
      ]
     },
     "metadata": {},
     "output_type": "display_data"
    }
   ],
   "source": [
    "# Creating plot\n",
    "plotdata.boxplot(column = 'CV', by = 'Features')\n",
    "plt.plot(plotdata.groupby('Features').mean())\n",
    "#print(plotdata.groupby('Features').mean())"
   ]
  },
  {
   "cell_type": "code",
   "execution_count": 11,
   "metadata": {},
   "outputs": [
    {
     "name": "stdout",
     "output_type": "stream",
     "text": [
      "[ 3  4  5  7 10 12]\n",
      "CHAS\n",
      "NOX\n",
      "RM\n",
      "DIS\n",
      "PTRATIO\n",
      "LSTAT\n"
     ]
    }
   ],
   "source": [
    "print(featurelist[5])\n",
    "for i in featurelist[5]:\n",
    "    print(df.columns[i])"
   ]
  },
  {
   "cell_type": "markdown",
   "metadata": {
    "id": "76Hx-4CkYFul"
   },
   "source": [
    "Based on the previous plot, pick the model with lowest average MSE as the best result. What is the best number of features? Which features are selected?\n",
    "\n",
    "The lowest average MSE is when we have 6 features. These are:\n",
    "CHAS\n",
    "NOX\n",
    "RM\n",
    "DIS\n",
    "PTRATIO\n",
    "LSTAT"
   ]
  },
  {
   "cell_type": "markdown",
   "metadata": {
    "id": "1GC4-prZBF88"
   },
   "source": [
    "#### Exercise 5 (10 pts)\n",
    "\n",
    "Another way of doing RFE with CV is using `RFECV` [Documentation](https://scikit-learn.org/stable/modules/generated/sklearn.feature_selection.RFECV.html#sklearn.feature_selection.RFECV) which performs the same task as `RFE` while performing a cross validation task. \n",
    "Use `RFECV` to find the best number of features for a regression model for Boston housing data set.  Which features are selected? (you can use `ranking_` attribute)\n",
    "\n",
    "Some Notes: \n",
    "\n",
    "- For `scoring` parameter you can use `neg_mean_squared_error` to get MSE. You can read [model evaluation documentation](https://scikit-learn.org/stable/modules/model_evaluation.html) to learn what values you can pass for this parameter\n",
    "\n",
    "- The default value for `cv` parameter in `RFECV` model is 5-fold cross-validation\n",
    "\n",
    "- Your results for RFE may vary (values with different numerical precision) given the stochastic nature of the algorithm and evaluation process.\n",
    "\n",
    "- Specifying random_state parameter ensures the same random partitions are used across different runs \n",
    "\n",
    "- Read the documentation to learn more about parameters and attributes for each model we discussed."
   ]
  },
  {
   "cell_type": "code",
   "execution_count": 12,
   "metadata": {
    "id": "bdUAWe1pBF89"
   },
   "outputs": [
    {
     "name": "stdout",
     "output_type": "stream",
     "text": [
      "Feature ranking:  [3 5 4 1 1 1 8 1 2 6 1 7 1]\n",
      "CHAS\n",
      "NOX\n",
      "RM\n",
      "DIS\n",
      "PTRATIO\n",
      "LSTAT\n"
     ]
    }
   ],
   "source": [
    "#Your code goes here\n",
    "from sklearn.feature_selection import RFECV\n",
    "#Your code goes here\n",
    "\n",
    "import warnings\n",
    "warnings.filterwarnings('ignore')\n",
    "\n",
    "# Code starts here \n",
    "y = df['MEDV']\n",
    "x = df.drop(columns=['MEDV'])\n",
    "\n",
    "rfe = RFECV(LinearRegression(), step=1, cv=5, scoring = 'neg_mean_squared_error')\n",
    "rfe = rfe.fit(x, y)\n",
    "print(\"Feature ranking: \", rfe.ranking_)\n",
    "for i in rfe.get_support(True):\n",
    "    print(df.columns[i])\n",
    "#for i in range (0,len(rfe.cv_results_)):\n",
    "#print(rfe.cv_results_)"
   ]
  },
  {
   "cell_type": "markdown",
   "metadata": {
    "id": "C46wCGWpBF89"
   },
   "source": [
    "### Which features are selected?\n",
    "\n",
    "The columns that were selected were: \n",
    "\n",
    "CHAS\n",
    "NOX\n",
    "RM\n",
    "DIS\n",
    "PTRATIO\n",
    "LSTAT"
   ]
  },
  {
   "cell_type": "markdown",
   "metadata": {
    "id": "bIe-zjt0BF8w"
   },
   "source": [
    "#### Exercise 6 ( 10 pts)\n",
    "\n",
    "The Boston housing prices dataset has an ethical problem. Describe here why.\n",
    "\n",
    "\n",
    "The dataset takes into account the number of african-american people living in a town in the column `B`, which implies that this affects housing prices in some way. This implication that the racial composition of a neighbourhoods affects house values is harmful and inaccurate.\n"
   ]
  }
 ],
 "metadata": {
  "colab": {
   "collapsed_sections": [
    "bIe-zjt0BF8w"
   ],
   "provenance": []
  },
  "kernelspec": {
   "display_name": "Python 3 (ipykernel)",
   "language": "python",
   "name": "python3"
  },
  "language_info": {
   "codemirror_mode": {
    "name": "ipython",
    "version": 3
   },
   "file_extension": ".py",
   "mimetype": "text/x-python",
   "name": "python",
   "nbconvert_exporter": "python",
   "pygments_lexer": "ipython3",
   "version": "3.9.16"
  }
 },
 "nbformat": 4,
 "nbformat_minor": 1
}
