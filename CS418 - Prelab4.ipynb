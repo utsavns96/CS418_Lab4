{
 "cells": [
  {
   "cell_type": "markdown",
   "metadata": {
    "id": "XFV8OqC2BF7c"
   },
   "source": [
    "# Prelab 4: How to use Scikit Learn for Regression"
   ]
  },
  {
   "cell_type": "markdown",
   "metadata": {
    "id": "20QQkGe9BF7q"
   },
   "source": [
    "**scikit-learn** is a popular machine learning package that contains a variety of models and tools. In this lab and lab 4 we will work with different models provided by **scikit-learn** package and build several models.\n",
    "\n",
    "All objects within scikit-learn share a uniform common basic API consisting of 3 interfaces: an _estimator_ interface for building and fitting models, a _predictor_ interface for making predictions, and a _transformer_ interface for converting data.\n",
    "\n",
    ">The _estimator_  interface defines object mechanism and a fit method for learning a model from training data. All supervised and unsupervised learning algorithms are offered as objects implementing this interface. Other machine learning tasks such as _feature extraction_, _feature selection_, and _dimensionality reduction_ are provided as _estimators_. \n",
    "\n",
    "For more information, check the scikit-learn API paper: [https://arxiv.org/pdf/1309.0238v1.pdf]\n",
    "\n",
    "The general form of using models in scikit-learn:\n"
   ]
  },
  {
   "cell_type": "markdown",
   "metadata": {
    "id": "sxgG9UprBF7x"
   },
   "source": [
    "```\n",
    "clf = someModel( )\n",
    "clf.fit(x_train , y_tain)\n",
    "```"
   ]
  },
  {
   "cell_type": "markdown",
   "metadata": {
    "id": "hsNUbQF4BF71"
   },
   "source": [
    "For Example: \n",
    "\n",
    "```\n",
    "clf = LinearSVC( )\n",
    "clf.fit(x_train , y_tain)\n",
    "```"
   ]
  },
  {
   "cell_type": "markdown",
   "metadata": {
    "id": "Ziqb8OuPBF75"
   },
   "source": [
    ">The _predictor_ adds a predict method that takes an array x_test and produces predictions for x_test, based on the learned parameters of the _estimator_. In supervised learning, this method typically return predicted labels or values computed by the model. Some unsupervised learning estimators may also implement the predict interface, such as __k-means__, where the predicted values are the cluster labels.\n",
    "\n",
    "```\n",
    "clf.predict(x_test)\n",
    "```"
   ]
  },
  {
   "cell_type": "markdown",
   "metadata": {
    "id": "gGEYklemBF78"
   },
   "source": [
    ">_transform_ method is used to modify or filter data before feeding it to a learning algorithm. It takes some new data as input and outputs a transformed version of that data. Preprocessing, feature selection, feature extraction and dimensionality reduction algorithms are all provided as _transformers_ within the library. \n",
    "\n",
    "This is usually done with __fit_transform__ method. For example: "
   ]
  },
  {
   "cell_type": "markdown",
   "metadata": {
    "id": "QFGZRaQfBF8A"
   },
   "source": [
    "```\n",
    "PCA = RandomizedPCA (n_components = 2) \n",
    "x_train = PCA.fit_transform(x_train)\n",
    "x_test = PCA.fit_transform(x_test)\n",
    "\n",
    "```"
   ]
  },
  {
   "cell_type": "markdown",
   "metadata": {
    "id": "_V02fQDHBF8E"
   },
   "source": [
    "In the example above, we first __fit__ the training set to find the PC components, then they are transformed. "
   ]
  },
  {
   "cell_type": "markdown",
   "metadata": {
    "id": "lmXJzlxBBF8H"
   },
   "source": [
    "We can summarize the _estimator_ as follows:\n",
    "\n",
    "* In _all estimators_\n",
    "    - `model.fit()` : fit training data. In supervised learning, fit will take two parameters: the data x and labels y. In unsupervised learning, fit will take a single parameter: the data x\n",
    "\n",
    "* In _supervised estimators_\n",
    "    - `model.predict()` : predict the label of new test data for the given model. Predict takes one parameter: the new test data and returns the learned label for each item in the test data \n",
    "    - `model.score()` : Returns the score method for classification or regression methods.\n",
    "\n",
    "* In _unsupervised estimators_\n",
    "\n",
    "    - `model.transform()`: Tranform new data into new basis. Transform takes one parameter: new data and returns a new representation of that data based on the model\n",
    "  \n",
    "    "
   ]
  },
  {
   "cell_type": "markdown",
   "metadata": {
    "id": "ZYCSkPWHBF8J"
   },
   "source": [
    "\n",
    "### Linear Regression"
   ]
  },
  {
   "cell_type": "markdown",
   "metadata": {
    "id": "GHJ4h40xBF8L"
   },
   "source": [
    "Let's start with a simple linear regression. First we will see an example of a simple linear regression. A simple straight line that fits the data. The formula representing the model is $$y = \\beta_1 x +  \\beta_0$$"
   ]
  },
  {
   "cell_type": "code",
   "execution_count": 1,
   "metadata": {
    "id": "GxqONgRqBF8M"
   },
   "outputs": [],
   "source": [
    "%matplotlib inline\n",
    "import matplotlib.pyplot as plt\n",
    "import seaborn as sns; sns.set()\n",
    "import numpy as np"
   ]
  },
  {
   "cell_type": "markdown",
   "metadata": {
    "id": "h-B_9SPXBF8Q"
   },
   "source": [
    "Let's start by using the following simple data for showing how linear regression works in scikit-learn. Then it will be your turn to build a regression model on a dataset"
   ]
  },
  {
   "cell_type": "code",
   "execution_count": 2,
   "metadata": {
    "colab": {
     "base_uri": "https://localhost:8080/",
     "height": 288
    },
    "executionInfo": {
     "elapsed": 818,
     "status": "ok",
     "timestamp": 1665944854960,
     "user": {
      "displayName": "Diana Diaz Herrera",
      "userId": "13964184193944013363"
     },
     "user_tz": 300
    },
    "id": "b1AA4NbmBF8S",
    "outputId": "b2905bcf-52f9-4a0e-d4a5-dbfafc31e54b"
   },
   "outputs": [
    {
     "data": {
      "text/plain": [
       "<matplotlib.collections.PathCollection at 0x1ca34174580>"
      ]
     },
     "execution_count": 2,
     "metadata": {},
     "output_type": "execute_result"
    },
    {
     "data": {
      "image/png": "[encoded data removed]",
      "text/plain": [
       "<Figure size 640x480 with 1 Axes>"
      ]
     },
     "metadata": {},
     "output_type": "display_data"
    }
   ],
   "source": [
    "rng = np.random.RandomState(50)\n",
    "\n",
    "x = 10 * rng.rand(80)\n",
    "y = 2 * x - 1 + rng.randn(80)\n",
    "\n",
    "plt.scatter(x,y)"
   ]
  },
  {
   "cell_type": "markdown",
   "metadata": {
    "id": "IGE5EhQiBF8W"
   },
   "source": [
    "After processing your data, the first step is to choose a model. For the dataset above, we are going to pick \"Linear Regression\" model. Simply import your model:"
   ]
  },
  {
   "cell_type": "code",
   "execution_count": 3,
   "metadata": {
    "id": "kr4ymxbDBF8X"
   },
   "outputs": [],
   "source": [
    "from sklearn.linear_model import LinearRegression"
   ]
  },
  {
   "cell_type": "markdown",
   "metadata": {
    "id": "NIa-p6YlBF8Z"
   },
   "source": [
    "Next, pick the model hyperparameters"
   ]
  },
  {
   "cell_type": "code",
   "execution_count": 4,
   "metadata": {
    "colab": {
     "base_uri": "https://localhost:8080/",
     "height": 270
    },
    "executionInfo": {
     "elapsed": 58,
     "status": "ok",
     "timestamp": 1665944854966,
     "user": {
      "displayName": "Diana Diaz Herrera",
      "userId": "13964184193944013363"
     },
     "user_tz": 300
    },
    "id": "X3whHtLABF8a",
    "outputId": "9759ad8c-07f2-4622-8f26-617cc499ec2d"
   },
   "outputs": [
    {
     "data": {
      "image/png": "[encoded data removed]",
      "text/plain": [
       "<Figure size 640x480 with 1 Axes>"
      ]
     },
     "metadata": {},
     "output_type": "display_data"
    }
   ],
   "source": [
    "model = LinearRegression(fit_intercept=True)\n",
    "\n",
    "model.fit(x[:, np.newaxis], y)\n",
    "\n",
    "xfit = np.linspace(0, 10, 1000) \n",
    "yfit = model.predict(xfit[:, np.newaxis])\n",
    "\n",
    "plt.scatter(x, y)\n",
    "plt.plot(xfit, yfit, 'r');"
   ]
  },
  {
   "cell_type": "markdown",
   "metadata": {
    "id": "s0dqshH4BF8d"
   },
   "source": [
    "We can check the model settings: "
   ]
  },
  {
   "cell_type": "code",
   "execution_count": 5,
   "metadata": {
    "colab": {
     "base_uri": "https://localhost:8080/"
    },
    "executionInfo": {
     "elapsed": 49,
     "status": "ok",
     "timestamp": 1665944854968,
     "user": {
      "displayName": "Diana Diaz Herrera",
      "userId": "13964184193944013363"
     },
     "user_tz": 300
    },
    "id": "gwAo1pIPBF8e",
    "outputId": "87502116-7f4d-47a9-8d63-6f290dc30757"
   },
   "outputs": [
    {
     "name": "stdout",
     "output_type": "stream",
     "text": [
      "1.944535887214308\n",
      "-0.8492545699739527\n"
     ]
    }
   ],
   "source": [
    "print(model.coef_[0])\n",
    "print(model.intercept_)"
   ]
  },
  {
   "cell_type": "markdown",
   "metadata": {
    "id": "ddeK8Cn4BF8f"
   },
   "source": [
    "### Linear regression on scikit-learn datasets\n",
    "\n",
    "You can use datasets provided by scikit-learn as well. In the example below, we will apply linear regression to the **diabetes** dataset. (source [Linear Regression Example](https://scikit-learn.org/stable/auto_examples/linear_model/plot_ols.html#sphx-glr-auto-examples-linear-model-plot-ols-py) )\n",
    "\n",
    "In the diabetes datasets, ten baseline variables; age, sex, body mass index, average blood pressure, and six blood serum measurements were obtained for each of n = 442 diabetes patients, as well as the response of interest, a quantitative measure of disease progression one year after baseline."
   ]
  },
  {
   "cell_type": "markdown",
   "metadata": {
    "id": "FblSE0ghBF8k"
   },
   "source": [
    "**How to evaluate a regression model?**\n",
    "\n",
    "When it comes to regression model we have a variety of metrics that we can use to evaluate our model. The most common ones are:"
   ]
  },
  {
   "cell_type": "markdown",
   "metadata": {
    "id": "SwsOmOhlCbya"
   },
   "source": [
    "\n",
    "\n",
    "*   Mean Squared Error (MSE): the mean of squared errors:\n",
    "\n",
    "  *  $\\frac{1}{n} \\Sigma (y_i - \\hat{y}_i)^2$\n",
    "\n",
    "*   Mean Absolute Error (MAE): the mean of the absolute value of the errors:\n",
    "\n",
    "  *  $\\frac{1}{n} \\Sigma |y_i - \\hat{y}_i|$\n",
    "    \n",
    "* Root Mean Squared Error (RMSE): the square root of the mean of the squared errors:\n",
    "    * $\\sqrt{\\frac{1}{n} \\Sigma (y_i - \\hat{y}_i)^2}$\n"
   ]
  },
  {
   "cell_type": "markdown",
   "metadata": {
    "id": "ZUp6m32nCWBn"
   },
   "source": [
    "\n",
    "\n",
    "You can check the full list of regression metrics here [Scikit-Learn: Regression Metrics](https://scikit-learn.org/stable/modules/classes.html#regression-metrics)\n"
   ]
  },
  {
   "cell_type": "code",
   "execution_count": 6,
   "metadata": {
    "colab": {
     "base_uri": "https://localhost:8080/",
     "height": 318
    },
    "executionInfo": {
     "elapsed": 426,
     "status": "ok",
     "timestamp": 1665946652740,
     "user": {
      "displayName": "Diana Diaz Herrera",
      "userId": "13964184193944013363"
     },
     "user_tz": 300
    },
    "id": "XZzMOVW0BF8h",
    "outputId": "2ed611b6-dc59-4071-fe3e-9110ef3b2573"
   },
   "outputs": [
    {
     "name": "stdout",
     "output_type": "stream",
     "text": [
      "Coefficients: \n",
      " [929.57818952]\n",
      "mean squared error: 3820.38\n",
      "R-squared: 0.40\n"
     ]
    },
    {
     "data": {
      "image/png": "[encoded data removed]",
      "text/plain": [
       "<Figure size 640x480 with 1 Axes>"
      ]
     },
     "metadata": {},
     "output_type": "display_data"
    }
   ],
   "source": [
    "# Importing diabetes dataset\n",
    "from sklearn.datasets import load_diabetes\n",
    "\n",
    "from sklearn.model_selection import train_test_split\n",
    "from sklearn.metrics import mean_squared_error, r2_score\n",
    "\n",
    "\n",
    "# Load the diabetes dataset\n",
    "diabetes = load_diabetes()\n",
    "\n",
    "# Use only one feature -- the following code creates a 1-dimensional \n",
    "# array containing just the second feature\n",
    "diabetes_X = diabetes.data[:, np.newaxis]\n",
    "diabetes_X_data = diabetes_X[:,:,2]\n",
    "\n",
    "# Split the data into training/testing sets\n",
    "diabetes_X_train,diabetes_X_test , diabetes_y_train, diabetes_y_test = train_test_split(\n",
    "                                     diabetes_X_data, diabetes.target, test_size = 0.15)\n",
    "\n",
    "m1 = LinearRegression()\n",
    "\n",
    "# Train the model with training data \n",
    "m1.fit(diabetes_X_train, diabetes_y_train)\n",
    "\n",
    "# Make predictions on test data \n",
    "diabetes_y_pred = m1.predict(diabetes_X_test)\n",
    "\n",
    "# print the coefficient \n",
    "print('Coefficients: \\n', m1.coef_)\n",
    "\n",
    "# print the mean squared error\n",
    "print('mean squared error: %.2f'% mean_squared_error(diabetes_y_test, diabetes_y_pred))\n",
    "\n",
    "# print the r-squared\n",
    "print('R-squared: %.2f' % r2_score(diabetes_y_test, diabetes_y_pred))\n",
    "\n",
    "# Plot \n",
    "plt.scatter(diabetes_X_test, diabetes_y_test,  color='red')\n",
    "plt.plot(diabetes_X_test, diabetes_y_pred, color='blue', linewidth=2)\n",
    "\n",
    "plt.xticks(())\n",
    "plt.yticks(())\n",
    "\n",
    "plt.show()\n"
   ]
  },
  {
   "cell_type": "markdown",
   "metadata": {
    "id": "fqUcK-r1KrOM"
   },
   "source": [
    "In the previous example we used one feature only (the second feature) because we consider that *bmi* is an important factor for diabetes; however, we can systematically search for important features using feature selection methods."
   ]
  },
  {
   "cell_type": "code",
   "execution_count": 7,
   "metadata": {
    "colab": {
     "base_uri": "https://localhost:8080/",
     "height": 35
    },
    "executionInfo": {
     "elapsed": 20,
     "status": "ok",
     "timestamp": 1665946679974,
     "user": {
      "displayName": "Diana Diaz Herrera",
      "userId": "13964184193944013363"
     },
     "user_tz": 300
    },
    "id": "o49JRl5vKMse",
    "outputId": "dc325ae6-6a83-4ec7-877d-00e62eac6aae"
   },
   "outputs": [
    {
     "data": {
      "text/plain": [
       "'bmi'"
      ]
     },
     "execution_count": 7,
     "metadata": {},
     "output_type": "execute_result"
    }
   ],
   "source": [
    "diabetes.feature_names[2]"
   ]
  },
  {
   "cell_type": "markdown",
   "metadata": {
    "id": "28nI-7Y6BF8p"
   },
   "source": [
    "\n",
    "\n",
    "\n",
    "**Feature selection** allows your estimator to perform a better job by decreasing the model complexity and overfitting.\n",
    "scikit-learn provides several feature selection methods such as `SelectKBest` and `RFE`. \n",
    "\n",
    "Here is an example of using `RFE` or [Recursive Feature Elimination](https://scikit-learn.org/stable/modules/generated/sklearn.feature_selection.RFE.html#sklearn.feature_selection.RFE) on diabetes dataset:"
   ]
  },
  {
   "cell_type": "code",
   "execution_count": 12,
   "metadata": {
    "colab": {
     "base_uri": "https://localhost:8080/"
    },
    "executionInfo": {
     "elapsed": 573,
     "status": "ok",
     "timestamp": 1665944868041,
     "user": {
      "displayName": "Diana Diaz Herrera",
      "userId": "13964184193944013363"
     },
     "user_tz": 300
    },
    "id": "nUk6JIrVBF8q",
    "outputId": "64fb4378-0239-4e44-89d7-c30866969cdc"
   },
   "outputs": [
    {
     "ename": "NameError",
     "evalue": "name 'm2' is not defined",
     "output_type": "error",
     "traceback": [
      "\u001b[1;31m---------------------------------------------------------------------------\u001b[0m",
      "\u001b[1;31mNameError\u001b[0m                                 Traceback (most recent call last)",
      "\u001b[1;32m~\\AppData\\Local\\Temp\\ipykernel_72920\\1550777659.py\u001b[0m in \u001b[0;36m<module>\u001b[1;34m\u001b[0m\n\u001b[0;32m      1\u001b[0m \u001b[1;32mfrom\u001b[0m \u001b[0msklearn\u001b[0m\u001b[1;33m.\u001b[0m\u001b[0mfeature_selection\u001b[0m \u001b[1;32mimport\u001b[0m \u001b[0mRFE\u001b[0m\u001b[1;33m\u001b[0m\u001b[1;33m\u001b[0m\u001b[0m\n\u001b[0;32m      2\u001b[0m \u001b[1;33m\u001b[0m\u001b[0m\n\u001b[1;32m----> 3\u001b[1;33m \u001b[0mrfe\u001b[0m \u001b[1;33m=\u001b[0m \u001b[0mRFE\u001b[0m\u001b[1;33m(\u001b[0m\u001b[0mestimator\u001b[0m \u001b[1;33m=\u001b[0m \u001b[0mm2\u001b[0m\u001b[1;33m,\u001b[0m \u001b[0mn_features_to_select\u001b[0m \u001b[1;33m=\u001b[0m \u001b[1;36m2\u001b[0m \u001b[1;33m,\u001b[0m \u001b[0mstep\u001b[0m \u001b[1;33m=\u001b[0m \u001b[1;36m1\u001b[0m\u001b[1;33m)\u001b[0m\u001b[1;33m\u001b[0m\u001b[1;33m\u001b[0m\u001b[0m\n\u001b[0m\u001b[0;32m      4\u001b[0m \u001b[0mrfe\u001b[0m\u001b[1;33m.\u001b[0m\u001b[0mfit\u001b[0m\u001b[1;33m(\u001b[0m\u001b[0mdiabetes_X_train\u001b[0m\u001b[1;33m,\u001b[0m \u001b[0mdiabetes_y_train\u001b[0m\u001b[1;33m)\u001b[0m\u001b[1;33m\u001b[0m\u001b[1;33m\u001b[0m\u001b[0m\n\u001b[0;32m      5\u001b[0m \u001b[0mprint\u001b[0m\u001b[1;33m(\u001b[0m\u001b[0mrfe\u001b[0m\u001b[1;33m.\u001b[0m\u001b[0msupport_\u001b[0m\u001b[1;33m)\u001b[0m\u001b[1;33m\u001b[0m\u001b[1;33m\u001b[0m\u001b[0m\n",
      "\u001b[1;31mNameError\u001b[0m: name 'm2' is not defined"
     ]
    }
   ],
   "source": [
    "from sklearn.feature_selection import RFE\n",
    "\n",
    "rfe = RFE(estimator = m2, n_features_to_select = 2 , step = 1)\n",
    "rfe.fit(diabetes_X_train, diabetes_y_train)\n",
    "print(rfe.support_)\n",
    "print(rfe.ranking_)\n",
    "f = rfe.get_support(True) #the most important features\n",
    "print(f)"
   ]
  },
  {
   "cell_type": "markdown",
   "metadata": {
    "id": "3DYg11AdBF8r"
   },
   "source": [
    "The `RFE` is a popular feature selection algorithm. It is a feature ranking with recursive feature elimination.\n",
    "```\n",
    "Given an external estimator that assigns weights to features (e.g., the coefficients of a linear model), the goal of recursive feature elimination (RFE) is to select features by recursively considering smaller and smaller sets of features. First, the estimator is trained on the initial set of features and the importance of each feature is obtained either through any specific attribute or callable. Then, the least important features are pruned from current set of features. That procedure is recursively repeated on the pruned set until the desired number of features to select is reached.\n",
    "```\n",
    "\n",
    "`n_features_to_select` or number of features to select is an important hyperparameter for `RFE` algorithm. In the previous example, we set this parameter to 2 and the ranking shows the top two features that were selected.\n"
   ]
  }
 ],
 "metadata": {
  "colab": {
   "collapsed_sections": [
    "K6YpdL-UBF8o",
    "yGV5xFIVBF8r",
    "GPKkuAxDBF8u",
    "bIe-zjt0BF8w",
    "eF5VNbQaBF8z",
    "csYHO08dBF85",
    "1GC4-prZBF88"
   ],
   "provenance": []
  },
  "kernelspec": {
   "display_name": "Python 3 (ipykernel)",
   "language": "python",
   "name": "python3"
  },
  "language_info": {
   "codemirror_mode": {
    "name": "ipython",
    "version": 3
   },
   "file_extension": ".py",
   "mimetype": "text/x-python",
   "name": "python",
   "nbconvert_exporter": "python",
   "pygments_lexer": "ipython3",
   "version": "3.9.16"
  }
 },
 "nbformat": 4,
 "nbformat_minor": 1
}
